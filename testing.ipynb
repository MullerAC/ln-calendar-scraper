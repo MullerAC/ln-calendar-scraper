{
 "cells": [
  {
   "cell_type": "code",
   "execution_count": 3,
   "metadata": {},
   "outputs": [],
   "source": [
    "from datetime import date\n",
    "from scrape import *"
   ]
  },
  {
   "cell_type": "code",
   "execution_count": 6,
   "metadata": {},
   "outputs": [
    {
     "output_type": "execute_result",
     "data": {
      "text/plain": [
       "datetime.date(1, 1, 1)"
      ]
     },
     "metadata": {},
     "execution_count": 6
    }
   ],
   "source": [
    "date.min"
   ]
  },
  {
   "cell_type": "code",
   "execution_count": 2,
   "metadata": {},
   "outputs": [
    {
     "output_type": "execute_result",
     "data": {
      "text/plain": [
       "datetime.date(2020, 5, 1)"
      ]
     },
     "metadata": {},
     "execution_count": 2
    }
   ],
   "source": [
    "today = date.today()#.replace(day=1)\n",
    "today.replace(2020)"
   ]
  },
  {
   "cell_type": "code",
   "execution_count": 2,
   "metadata": {},
   "outputs": [
    {
     "output_type": "execute_result",
     "data": {
      "text/plain": [
       "{'date': datetime.date(2020, 2, 25),\n",
       " 'title': \"The Ryuo's Work is Never Done!\",\n",
       " 'volume': '11',\n",
       " 'publisher': 'SB Creative',\n",
       " 'store_link': 'https://global.bookwalker.jp/de33fea597-f52a-4db8-8bee-d0c2339e6557/the-ryuos-work-is-never-done-vol-11/',\n",
       " 'format': 'Digital'}"
      ]
     },
     "metadata": {},
     "execution_count": 2
    }
   ],
   "source": [
    "result = book_walker.volume_scrape('https://global.bookwalker.jp/de33fea597-f52a-4db8-8bee-d0c2339e6557/the-ryuos-work-is-never-done-vol-11/')\n",
    "result"
   ]
  },
  {
   "cell_type": "code",
   "execution_count": 1,
   "metadata": {},
   "outputs": [],
   "source": [
    "from bs4 import BeautifulSoup\n",
    "import requests"
   ]
  },
  {
   "cell_type": "code",
   "execution_count": 2,
   "metadata": {},
   "outputs": [],
   "source": [
    "url = 'https://squareenixmangaandbooks.square-enix-games.com/en-us/product/9781646090754'\n",
    "soup = BeautifulSoup(requests.get(url).text, 'html.parser')"
   ]
  },
  {
   "cell_type": "code",
   "execution_count": 4,
   "metadata": {},
   "outputs": [
    {
     "output_type": "stream",
     "name": "stdout",
     "text": [
      "<div class=\"book-title\">\n</div>\n\n"
     ]
    }
   ],
   "source": [
    "title = soup.find('div', {'class':'book-title'})#.get_text(strip=True)\n",
    "print(title.prettify())"
   ]
  },
  {
   "cell_type": "code",
   "execution_count": 6,
   "metadata": {
    "tags": [
     "outputPrepend"
    ]
   },
   "outputs": [
    {
     "output_type": "stream",
     "name": "stdout",
     "text": [
      "olute;height:20%;left:0;right:0;top:0%;opacity:1\">\n           </span>\n           <span class=\"bm-burger-bars\" style=\"position:absolute;height:20%;left:0;right:0;top:40%;opacity:1\">\n           </span>\n           <span class=\"bm-burger-bars\" style=\"position:absolute;height:20%;left:0;right:0;top:80%;opacity:1\">\n           </span>\n          </span>\n          <button style=\"position:absolute;left:0;top:0;width:100%;height:100%;margin:0;padding:0;border:none;font-size:0;background:transparent;cursor:pointer\">\n           Open Menu\n          </button>\n         </div>\n        </div>\n       </div>\n      </div>\n     </div>\n     <div class=\"ProductPage__ProductWrapper-iDgApG iDewJW sc-htpNat dWjoKv sc-bdVaJa iHZvIS\">\n      <div class=\"container\">\n       <div class=\"book-title-section\">\n        <div class=\"series-link-house\">\n         <a class=\"series-link\" href=\"/en-us/series/undefined\" style=\"display:flex;align-items:center;justify-content:flex-start;padding:0;background:none\">\n          <svg fill=\"currentColor\" height=\"1em\" stroke=\"currentColor\" stroke-width=\"0\" viewbox=\"0 0 448 512\" width=\"1em\">\n           <path d=\"M257.5 445.1l-22.2 22.2c-9.4 9.4-24.6 9.4-33.9 0L7 273c-9.4-9.4-9.4-24.6 0-33.9L201.4 44.7c9.4-9.4 24.6-9.4 33.9 0l22.2 22.2c9.5 9.5 9.3 25-.4 34.3L136.6 216H424c13.3 0 24 10.7 24 24v32c0 13.3-10.7 24-24 24H136.6l120.5 114.8c9.8 9.3 10 24.8.4 34.3z\">\n           </path>\n          </svg>\n          Series Info\n         </a>\n        </div>\n        <div class=\"book-title\">\n        </div>\n        <div class=\"book-author\">\n         By:\n        </div>\n       </div>\n       <div class=\"left-side-contents\">\n        <div class=\"book-cover-house\">\n         <span class=\"book-cover-wrapper lazy-load-image-background blur\" style=\"background-image:url( );background-size:100% 100%;color:transparent;display:inline-block\">\n          <span class=\"\" style=\"display:inline-block;height:0;width:0\">\n          </span>\n         </span>\n        </div>\n        <div>\n        </div>\n        <div>\n        </div>\n       </div>\n       <div class=\"right-side-content\">\n        <div class=\"synopsis\">\n         <div class=\"synopsis-header\">\n          volume synopsis:\n         </div>\n         <div class=\"synopsis-text\">\n         </div>\n         <div style=\"margin-bottom:10px\">\n          <span class=\"synopsis-header\">\n           release date:\n          </span>\n         </div>\n         <div style=\"margin-bottom:10px\">\n          <span class=\"synopsis-header\">\n           category:\n          </span>\n         </div>\n         <div style=\"margin-bottom:10px\">\n          <span class=\"synopsis-header\">\n           format:\n          </span>\n         </div>\n         <div style=\"margin-bottom:10px\">\n          <span class=\"synopsis-header\">\n           isbn:\n          </span>\n         </div>\n         <div style=\"margin-bottom:10px\">\n          <span class=\"synopsis-header\">\n           trim size:\n          </span>\n         </div>\n         <div style=\"margin-bottom:10px\">\n          <span class=\"synopsis-header\">\n           page count:\n          </span>\n         </div>\n         <div style=\"margin-bottom:10px\">\n          <span class=\"synopsis-header\">\n           age rating:\n          </span>\n         </div>\n         <div style=\"margin-bottom:10px\">\n          <span class=\"synopsis-header\">\n           genres:\n          </span>\n         </div>\n        </div>\n        <div class=\"format-options\">\n        </div>\n        <div class=\"retail-options-house\">\n         <div class=\"retailers-header\">\n          <div class=\"stores-header\">\n           Stores\n          </div>\n          <div class=\"price-header\">\n          </div>\n         </div>\n         <div class=\"retail-options\">\n         </div>\n        </div>\n       </div>\n      </div>\n     </div>\n    </div>\n    <div class=\"AppEntry__FooterWrapper-tJqLT hqKNXg sc-htpNat dWjoKv sc-bdVaJa kFhTVm\" width=\"100%\">\n     <div class=\"sc-gxMtzJ clmQrN sc-bwzfXH lhbjAE sc-bdVaJa iLyYaI\" color=\"footer.text\">\n      <div class=\"sc-gxMtzJ DdRaT sc-bwzfXH lhbjAE sc-bdVaJa gRrvFh\" width=\"100%\">\n       <div class=\"sc-gxMtzJ clmQrN sc-bwzfXH lpugEn sc-bdVaJa iHZvIS\">\n        <div class=\"sc-htpNat dWjoKv sc-bdVaJa hOAhlG\">\n         <a href=\"https://square-enix-games.com/en_US\" rel=\"noopener noreferrer\" style=\"text-decoration:none\" target=\"_blank\">\n          <div class=\"footer--logo-img square-enix\">\n           <svg data-name=\"Layer 1\" id=\"Layer_1\" viewbox=\"0 0 142.2 14.5\" xmlns=\"http://www.w3.org/2000/svg\">\n            <defs>\n             <style>\n              .cls-1{fill:#fff;}.cls-2{fill:#ec1c24;}\n             </style>\n            </defs>\n            <path class=\"cls-1\" d=\"M29.6,16.7H22.3c-2.3,0-3,.6-3,3v6.7c0,2.4.7,3,3,3h2.3v1.7h2.7V29.4h2.3c2.3,0,3-.6,3-3V19.7C32.6,17.3,31.9,16.7,29.6,16.7ZM29.8,27H27.3V25.6H24.6V27H22.1V18.8h7.7Z\" transform=\"translate(-3.7 -16.6)\">\n            </path>\n            <path class=\"cls-1\" d=\"M44.4,27H37.7V16.7H34.9v9.7c0,2.4.7,3,3,3h6.4c2.3,0,3-.6,3-3V16.7H44.5Z\" transform=\"translate(-3.7 -16.6)\">\n            </path>\n            <path class=\"cls-1\" d=\"M54.4,16.7,48,29.4h2.7L52,26.6h7.3l1.4,2.8h3L57,16.7Zm-1.3,7.6,2.6-5.2,2.5,5.2Z\" transform=\"translate(-3.7 -16.6)\">\n            </path>\n            <path class=\"cls-1\" d=\"M73.8,24.6c1.9,0,2.7-.7,2.7-2.5v-3c0-1.8-.9-2.5-2.7-2.5H64.7V29.4h2.8V24.6h1.9l4.4,4.8h3.8l-4.9-4.8Zm-6.3-2.2V18.8h5c.9,0,1.3.2,1.3,1v1.5c0,.8-.4,1-1.3,1h-5Z\" transform=\"translate(-3.7 -16.6)\">\n            </path>\n            <rect class=\"cls-2\" height=\"2.4\" width=\"4.6\" x=\"97.1\" y=\"5.1\">\n            </rect>\n            <polygon class=\"cls-1\" points=\"94.8 2.2 102.7 2.2 102.7 0.1 91.9 0.1 91.9 12.8 102.8 12.8 102.8 10.4 94.8 10.4 94.8 2.2\">\n            </polygon>\n            <path class=\"cls-1\" d=\"M118.1,23.4c0,.4,0,1.1.1,2.2-.4-.5-7.6-8.9-7.6-8.9h-1.9V29.5h2.5V22.6a18.15,18.15,0,0,0-.1-2c.3.4,7.6,8.9,7.6,8.9h1.9V16.7h-2.5Z\" transform=\"translate(-3.7 -16.6)\">\n            </path>\n            <rect class=\"cls-1\" height=\"12.8\" width=\"2.8\" x=\"119.2\" y=\"0.1\">\n            </rect>\n            <rect class=\"cls-2\" height=\"2.4\" width=\"4.6\" x=\"80.4\" y=\"5.1\">\n            </rect>\n            <polygon class=\"cls-1\" points=\"78.1 2.2 86.1 2.2 86.1 0.1 75.3 0.1 75.3 12.8 86.2 12.8 86.2 10.4 78.1 10.4 78.1 2.2\">\n            </polygon>\n            <path class=\"cls-1\" d=\"M3.7,27c0,1.9.9,2.4,3,2.4h7.6c2.3,0,3-.6,3-3V24.6c0-2.4-.8-3-3-3H6.7V18.8h8V20h2.5v-.6c0-2.2-.8-2.8-3-2.8h-7c-2.3,0-3,.6-3,3V21c0,2.4.7,3,3,3h7.6v3Z\" transform=\"translate(-3.7 -16.6)\">\n            </path>\n            <polygon class=\"cls-1\" points=\"132.4 5.9 137.4 0.1 134.3 0.1 130.8 4.4 127.1 0.1 123.6 0.1 129.1 6.3 123.6 12.8 126.8 12.8 130.7 7.9 135 12.8 138.6 12.8 132.4 5.9\">\n            </polygon>\n            <path class=\"cls-1\" d=\"M143.6,26.9h.6c.2,0,.4.1.4.3a.37.37,0,0,1-.4.4h-.6Zm-.4,1.9h.4v-.9h.6c.4,0,.4.2.4.6a.37.37,0,0,0,.1.3h.4c-.1-.1-.1-.3-.1-.6s-.2-.5-.3-.5h0c.1,0,.4-.1.4-.6s-.2-.6-.7-.6h-1.1v2.3Z\" transform=\"translate(-3.7 -16.6)\">\n            </path>\n            <path class=\"cls-1\" d=\"M142.3,27.7a1.8,1.8,0,1,0,1.8-1.8A1.79,1.79,0,0,0,142.3,27.7Zm.3,0a1.5,1.5,0,1,1,1.5,1.5A1.54,1.54,0,0,1,142.6,27.7Z\" transform=\"translate(-3.7 -16.6)\">\n            </path>\n           </svg>\n          </div>\n         </a>\n        </div>\n       </div>\n       <div class=\"sc-htpNat dWjoKv sc-bdVaJa gRrvFh\" width=\"100%\">\n        <p class=\"sc-RefOD bkXSEj\" font-family=\"footer\" font-size=\"xxs\">\n         Copyright © 2019 SQUARE ENIX CO., LTD. All Rights Reserved.\n        </p>\n       </div>\n       <div class=\"sc-gxMtzJ clmQrN sc-bwzfXH jMHgpE sc-bdVaJa iqwZAj\">\n        <div class=\"sc-htpNat dWjoKv sc-bdVaJa gBBbOL\" font-size=\"xxs\">\n         <a href=\"https://square-enix-games.com/en_US/documents/cookies\" rel=\"noopener noreferrer\" style=\"text-decoration:none\" target=\"_blank\">\n          <p class=\"sc-RefOD gCxdzo\" color=\"footer.links\" font-family=\"footer\" font-size=\"xxs\">\n           <span class=\"sc-iQNlJl gTqsYg\">\n            Cookie Notice\n           </span>\n          </p>\n         </a>\n        </div>\n        <div class=\"sc-htpNat dWjoKv sc-bdVaJa gBBbOL\" font-size=\"xxs\">\n         <a href=\"https://square-enix-games.com/en_US/documents/tnc\" rel=\"noopener noreferrer\" style=\"text-decoration:none\" target=\"_blank\">\n          <p class=\"sc-RefOD gCxdzo\" color=\"footer.links\" font-family=\"footer\" font-size=\"xxs\">\n           <span class=\"sc-iQNlJl gTqsYg\">\n            Terms of Use\n           </span>\n          </p>\n         </a>\n        </div>\n        <div class=\"sc-htpNat dWjoKv sc-bdVaJa gBBbOL\" font-size=\"xxs\">\n         <a href=\"https://square-enix-games.com/en_US/documents/privacy\" rel=\"noopener noreferrer\" style=\"text-decoration:none\" target=\"_blank\">\n          <p class=\"sc-RefOD gCxdzo\" color=\"footer.links\" font-family=\"footer\" font-size=\"xxs\">\n           <span class=\"sc-iQNlJl gTqsYg\">\n            Privacy Notice\n           </span>\n          </p>\n         </a>\n        </div>\n        <div class=\"sc-htpNat dWjoKv sc-bdVaJa gBBbOL\" font-size=\"xxs\">\n         <a href=\"http://support.na.square-enix.com/index.php\" rel=\"noopener noreferrer\" style=\"text-decoration:none\" target=\"_blank\">\n          <p class=\"sc-RefOD gCxdzo\" color=\"footer.links\" font-family=\"footer\" font-size=\"xxs\">\n           <span class=\"sc-iQNlJl gTqsYg\">\n            Support Center\n           </span>\n          </p>\n         </a>\n        </div>\n        <div class=\"sc-htpNat dWjoKv sc-bdVaJa gBBbOL\" font-size=\"xxs\">\n         <a href=\"https://square-enix-games.com/en_US/documents/materialusagepolicy\" rel=\"noopener noreferrer\" style=\"text-decoration:none\" target=\"_blank\">\n          <p class=\"sc-RefOD gCxdzo\" color=\"footer.links\" font-family=\"footer\" font-size=\"xxs\">\n           <span class=\"sc-iQNlJl gTqsYg\">\n            Material Usage Policy\n           </span>\n          </p>\n         </a>\n        </div>\n       </div>\n      </div>\n     </div>\n    </div>\n   </div>\n  </div>\n  <script type=\"text/javascript\">\n   window.__APP_STATE__={\"ageGate\":\"\",\"footer\":{\"en-us\":{\"legalContent\":\"Copyright © 2019 SQUARE ENIX CO., LTD. All Rights Reserved.\",\"uskLegalContent\":null,\"uskLegalUrl\":null,\"policyLinks\":[{\"name\":\"Cookie Notice\",\"link\":\"https:\\u002F\\u002Fsquare-enix-games.com\\u002Fen_US\\u002Fdocuments\\u002Fcookies\"},{\"name\":\"Terms of Use\",\"link\":\"https:\\u002F\\u002Fsquare-enix-games.com\\u002Fen_US\\u002Fdocuments\\u002Ftnc\"},{\"name\":\"Privacy Notice\",\"link\":\"https:\\u002F\\u002Fsquare-enix-games.com\\u002Fen_US\\u002Fdocuments\\u002Fprivacy\"},{\"name\":\"Support Center\",\"link\":\"http:\\u002F\\u002Fsupport.na.square-enix.com\\u002Findex.php\"},{\"name\":\"Material Usage Policy\",\"link\":\"https:\\u002F\\u002Fsquare-enix-games.com\\u002Fen_US\\u002Fdocuments\\u002Fmaterialusagepolicy\"}],\"logoLinks\":[{\"name\":\"square-enix\",\"svg\":\"\\u003Csvg id=\\\"Layer_1\\\" data-name=\\\"Layer 1\\\" xmlns=\\\"http:\\u002F\\u002Fwww.w3.org\\u002F2000\\u002Fsvg\\\" viewBox=\\\"0 0 142.2 14.5\\\"\\u003E\\u003Cdefs\\u003E\\u003Cstyle\\u003E.cls-1{fill:#fff;}.cls-2{fill:#ec1c24;}\\u003C\\u002Fstyle\\u003E\\u003C\\u002Fdefs\\u003E\\u003Cpath class=\\\"cls-1\\\" d=\\\"M29.6,16.7H22.3c-2.3,0-3,.6-3,3v6.7c0,2.4.7,3,3,3h2.3v1.7h2.7V29.4h2.3c2.3,0,3-.6,3-3V19.7C32.6,17.3,31.9,16.7,29.6,16.7ZM29.8,27H27.3V25.6H24.6V27H22.1V18.8h7.7Z\\\" transform=\\\"translate(-3.7 -16.6)\\\"\\u002F\\u003E\\u003Cpath class=\\\"cls-1\\\" d=\\\"M44.4,27H37.7V16.7H34.9v9.7c0,2.4.7,3,3,3h6.4c2.3,0,3-.6,3-3V16.7H44.5Z\\\" transform=\\\"translate(-3.7 -16.6)\\\"\\u002F\\u003E\\u003Cpath class=\\\"cls-1\\\" d=\\\"M54.4,16.7,48,29.4h2.7L52,26.6h7.3l1.4,2.8h3L57,16.7Zm-1.3,7.6,2.6-5.2,2.5,5.2Z\\\" transform=\\\"translate(-3.7 -16.6)\\\"\\u002F\\u003E\\u003Cpath class=\\\"cls-1\\\" d=\\\"M73.8,24.6c1.9,0,2.7-.7,2.7-2.5v-3c0-1.8-.9-2.5-2.7-2.5H64.7V29.4h2.8V24.6h1.9l4.4,4.8h3.8l-4.9-4.8Zm-6.3-2.2V18.8h5c.9,0,1.3.2,1.3,1v1.5c0,.8-.4,1-1.3,1h-5Z\\\" transform=\\\"translate(-3.7 -16.6)\\\"\\u002F\\u003E\\u003Crect class=\\\"cls-2\\\" x=\\\"97.1\\\" y=\\\"5.1\\\" width=\\\"4.6\\\" height=\\\"2.4\\\"\\u002F\\u003E\\u003Cpolygon class=\\\"cls-1\\\" points=\\\"94.8 2.2 102.7 2.2 102.7 0.1 91.9 0.1 91.9 12.8 102.8 12.8 102.8 10.4 94.8 10.4 94.8 2.2\\\"\\u002F\\u003E\\u003Cpath class=\\\"cls-1\\\" d=\\\"M118.1,23.4c0,.4,0,1.1.1,2.2-.4-.5-7.6-8.9-7.6-8.9h-1.9V29.5h2.5V22.6a18.15,18.15,0,0,0-.1-2c.3.4,7.6,8.9,7.6,8.9h1.9V16.7h-2.5Z\\\" transform=\\\"translate(-3.7 -16.6)\\\"\\u002F\\u003E\\u003Crect class=\\\"cls-1\\\" x=\\\"119.2\\\" y=\\\"0.1\\\" width=\\\"2.8\\\" height=\\\"12.8\\\"\\u002F\\u003E\\u003Crect class=\\\"cls-2\\\" x=\\\"80.4\\\" y=\\\"5.1\\\" width=\\\"4.6\\\" height=\\\"2.4\\\"\\u002F\\u003E\\u003Cpolygon class=\\\"cls-1\\\" points=\\\"78.1 2.2 86.1 2.2 86.1 0.1 75.3 0.1 75.3 12.8 86.2 12.8 86.2 10.4 78.1 10.4 78.1 2.2\\\"\\u002F\\u003E\\u003Cpath class=\\\"cls-1\\\" d=\\\"M3.7,27c0,1.9.9,2.4,3,2.4h7.6c2.3,0,3-.6,3-3V24.6c0-2.4-.8-3-3-3H6.7V18.8h8V20h2.5v-.6c0-2.2-.8-2.8-3-2.8h-7c-2.3,0-3,.6-3,3V21c0,2.4.7,3,3,3h7.6v3Z\\\" transform=\\\"translate(-3.7 -16.6)\\\"\\u002F\\u003E\\u003Cpolygon class=\\\"cls-1\\\" points=\\\"132.4 5.9 137.4 0.1 134.3 0.1 130.8 4.4 127.1 0.1 123.6 0.1 129.1 6.3 123.6 12.8 126.8 12.8 130.7 7.9 135 12.8 138.6 12.8 132.4 5.9\\\"\\u002F\\u003E\\u003Cpath class=\\\"cls-1\\\" d=\\\"M143.6,26.9h.6c.2,0,.4.1.4.3a.37.37,0,0,1-.4.4h-.6Zm-.4,1.9h.4v-.9h.6c.4,0,.4.2.4.6a.37.37,0,0,0,.1.3h.4c-.1-.1-.1-.3-.1-.6s-.2-.5-.3-.5h0c.1,0,.4-.1.4-.6s-.2-.6-.7-.6h-1.1v2.3Z\\\" transform=\\\"translate(-3.7 -16.6)\\\"\\u002F\\u003E\\u003Cpath class=\\\"cls-1\\\" d=\\\"M142.3,27.7a1.8,1.8,0,1,0,1.8-1.8A1.79,1.79,0,0,0,142.3,27.7Zm.3,0a1.5,1.5,0,1,1,1.5,1.5A1.54,1.54,0,0,1,142.6,27.7Z\\\" transform=\\\"translate(-3.7 -16.6)\\\"\\u002F\\u003E\\u003C\\u002Fsvg\\u003E\",\"link\":\"https:\\u002F\\u002Fsquare-enix-games.com\\u002Fen_US\"}],\"studiosLogos\":[],\"cookiePolicy\":{\"name\":\"Cookie policy\",\"content\":\"This website uses cookies. If you do not wish us to set cookies on your device, please do not use the website. Please read the Square Enix \\u003Ca href=\\\"https:\\u002F\\u002Fsquare-enix-games.com\\u002Fen_US\\u002Fdocuments\\u002Fcookies\\\" target=\\\"_blank\\\"\\u003Ecookies policy\\u003C\\u002Fa\\u003E for more information. Your use of the website is also subject to the terms in the Square Enix website \\u003Ca href=\\\"https:\\u002F\\u002Fsquare-enix-games.com\\u002Fen_US\\u002Fdocuments\\u002Ftnc\\\" target=\\\"_blank\\\"\\u003Eterms of use\\u003C\\u002Fa\\u003E and \\u003Ca href=\\\"https:\\u002F\\u002Fsquare-enix-games.com\\u002Fen_US\\u002Fdocuments\\u002Fprivacy\\\" target=\\\"_blank\\\"\\u003Eprivacy policy\\u003C\\u002Fa\\u003E and by using the website you are accepting those terms. The Square Enix terms of use, privacy policy and cookies policy can also be found through links at the bottom of the page.\"}}},\"retailers\":{\"country\":\"en-us\",\"edition\":\"playstation-4\",\"retailers\":\"\",\"packshot\":\"\"},\"header\":\"\",\"membership\":{\"semid\":null,\"session\":null,\"isLoggedIn\":false,\"user\":{}}};\n  </script>\n  <script type=\"text/javascript\">\n   window.__CLIENT_CONFIG__={\"welcomeMessage\":\"Hello world!\",\"serviceWorker\":{\"enabled\":true},\"polyfillIO\":{\"enabled\":true,\"url\":\"\\u002F\\u002Fcdn.polyfill.io\\u002Fv2\\u002Fpolyfill.min.js\",\"features\":[\"default\",\"es6\",\"fetch\",\"Promise\"]},\"htmlPage\":{\"titleTemplate\":\"Square Enix Manga and Books - %s\",\"defaultTitle\":\"Square Enix Manga and Books\",\"description\":\"The Japanese multimedia entertainment company is best known internationally for their gaming properties, which include FINAL FANTASY®, TOMB RAIDER®, DRAGON QUEST® and NieR:Automata® titles on game consoles and mobile platforms, but in Japan, Square Enix is also a renowned book and magazine publisher. The company has previously licensed their manga properties (including hits like FULLMETAL ALCHEMIST®, SOUL EATER® and Black Butler®) to US-based publishers, but the new program marks their entry into the English-language market directly, publishing graphic novels and other book products under SQUARE ENIX for the first time through all major book sales channels.\"},\"host\":\"localhost\",\"port\":3000,\"localisation\":true,\"availableLanguages\":{\"en_US\":{\"locale\":\"en-us\",\"label\":\"English (American)\",\"country\":\"us\",\"ageGateFormat\":\"mm\\u002Fdd\\u002Fyyyy\",\"dateFormat\":\"mm\\u002Fdd\\u002Fyyyy\",\"htmlLang\":\"en\",\"localeCode\":\"en_US\"},\"en_GB\":{\"locale\":\"en-gb\",\"label\":\"English (British)\",\"country\":\"gb\",\"ageGateFormat\":\"dd\\u002Fmm\\u002Fyyyy\",\"dateFormat\":\"dd\\u002Fmm\\u002Fyyyy\",\"htmlLang\":\"en\",\"localeCode\":\"en_GB\"}},\"availableLocales\":{\"en-us\":{\"localeCode\":\"en_US\",\"locale\":\"en-us\",\"label\":\"English (American)\",\"country\":\"us\",\"ageGateFormat\":\"mm\\u002Fdd\\u002Fyyyy\",\"dateFormat\":\"mm\\u002Fdd\\u002Fyyyy\",\"htmlLang\":\"en\"},\"en-gb\":{\"localeCode\":\"en_GB\",\"locale\":\"en-gb\",\"label\":\"English (British)\",\"country\":\"gb\",\"ageGateFormat\":\"dd\\u002Fmm\\u002Fyyyy\",\"dateFormat\":\"dd\\u002Fmm\\u002Fyyyy\",\"htmlLang\":\"en\"}},\"defaultLocale\":\"en-us\",\"i18nLocation\":\"\\u002Flocale\\u002F{locale}\",\"basePath\":\"http:\\u002F\\u002F0.0.0.0:1337\\u002F\",\"ageGateUrl\":\"\\u002Fage\",\"siteId\":\"fe_server\",\"siteType\":\"gameSite\",\"rollbar\":{\"accessToken\":null,\"captureUncaught\":true,\"captureUnhandledRejections\":true,\"environment\":\"dev\"},\"SEMClientID\":\"mangabooks\",\"SEMService\":\"membership\",\"recaptchaKey\":\"6LdnjNcSAAAAADYBYLUrAh7kOpcAsDElaDozGv-t\",\"membership\":{\"endpoint\":\"https:\\u002F\\u002Fmembership.square-enix.com\"},\"breakpoints\":{\"xs\":320,\"s\":480,\"m\":769,\"l\":992,\"xl\":1280},\"headerTemplate\":\"https:\\u002F\\u002Fapi.sqexeu.com\\u002Fsem\\u002Fheaderbar\\u002Fheader\\u002Fblack\\u002F{locale}\",\"internalBreakpoints\":{\"mediaList\":{\"ml\":860},\"nav\":{\"xxl\":1400}},\"footerTemplate\":\"https:\\u002F\\u002Fhermes.hydra.sqexeu.com\\u002Ffooter\\u002Fv1\\u002Fcombined\\u002Fmanga\\u002F{locale}\"}\n  </script>\n  <script type=\"text/javascript\">\n   window.__ASYNC_COMPONENTS_REHYDRATE_STATE__={\"resolved\":{}};\n  </script>\n  <script type=\"text/javascript\">\n   window.__JOBS_STATE__={\"jobs\":{\"2\":{\"data\":true}}}\n  </script>\n  <script type=\"text/javascript\">\n   window.__ROUTER_STATE__={}\n  </script>\n  <script type=\"text/javascript\">\n   window.__SERVICE_WORKER_STATE__=[\"\\u002Fapi\\u002Ffooter\\u002Fen-us\"]\n  </script>\n  <script src=\"//cdn.polyfill.io/v2/polyfill.min.js?features=default,es6,fetch,Promise\" type=\"text/javascript\">\n  </script>\n  <script src=\"/client/index-1420cb777c7b4e82cf12.js\" type=\"text/javascript\">\n  </script>\n  <script data-react-helmet=\"true\">\n   var ENVIRONMENT = 'stage';\n              var PAGE_ID = 'home';\n              var SITE_ID = 'mangaandbooks';\n              var SITE_TYPE = 'gameSite';\n              var COUNTRY = 'us';\n              var LANGUAGE = 'en';\n              var BREADCRUMBS = 'home';\n              var GOOGLE_TAG_MANAGER_ID = 'GTM-P37XSWJ';\n\n              var gtmDevice = 'desktop';\n              {/Android|webOS|iPhone|iPad|iPod|BlackBerry|IEMobile|Opera Mini/i.test(navigator.userAgent) ?\n                gtmDevice = 'mobile'\n                : null\n              }\n              window.digitalData = window.digitalData || [];\n\n              window.digitalData.push({\n                page: {\n                  pageInfo: {\n                    breadcrumbs: BREADCRUMBS,\n                    country: COUNTRY,\n                    destinationURL: document.location.href,\n                    environment: ENVIRONMENT,\n                    language: LANGUAGE,\n                    onsiteSearchResult: '',\n                    onsiteSearchTerm: '',\n                    pageID: PAGE_ID,\n                    pageName: document.title,\n                    referringURL: document.referrer,\n                    site: SITE_ID,\n                    siteType: SITE_TYPE,\n                    sysEnv: gtmDevice\n                  },\n                },\n                user: {\n                  profileInfo: {\n                    userId: ''\n                  }\n                }\n              });\n\n              (function(w,d,s,l,i){w[l]=w[l]||[];w[l].push({'gtm.start':\n              new Date().getTime(),event:'gtm.js'});var f=d.getElementsByTagName(s)[0],\n              j=d.createElement(s),dl=l!='dataLayer'?'&l='+l:'';j.async=true;j.src=\n              'https://www.googletagmanager.com/gtm.js?id='+i+dl;f.parentNode.insertBefore(j,f);\n              })(window,document,'script','digitalData',GOOGLE_TAG_MANAGER_ID);\n  </script>\n  <script async=\"\" src=\"/_Incapsula_Resource?SWJIYLWA=719d34d31c8e3a6e6fffd425f7e032f3&amp;ns=6&amp;cb=794230802\" type=\"text/javascript\">\n  </script>\n </body>\n</html>\n"
     ]
    }
   ],
   "source": [
    "print(soup.prettify())"
   ]
  },
  {
   "cell_type": "code",
   "execution_count": null,
   "metadata": {},
   "outputs": [],
   "source": []
  }
 ],
 "metadata": {
  "kernelspec": {
   "display_name": "projects",
   "language": "python",
   "name": "projects"
  },
  "language_info": {
   "codemirror_mode": {
    "name": "ipython",
    "version": 3
   },
   "file_extension": ".py",
   "mimetype": "text/x-python",
   "name": "python",
   "nbconvert_exporter": "python",
   "pygments_lexer": "ipython3",
   "version": "3.8.8"
  }
 },
 "nbformat": 4,
 "nbformat_minor": 4
}