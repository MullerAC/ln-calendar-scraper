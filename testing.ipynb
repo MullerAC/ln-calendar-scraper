{
 "cells": [
  {
   "cell_type": "code",
   "execution_count": 3,
   "metadata": {},
   "outputs": [],
   "source": [
    "from datetime import date\n",
    "from scrape import *"
   ]
  },
  {
   "cell_type": "code",
   "execution_count": 6,
   "metadata": {},
   "outputs": [
    {
     "output_type": "execute_result",
     "data": {
      "text/plain": [
       "datetime.date(1, 1, 1)"
      ]
     },
     "metadata": {},
     "execution_count": 6
    }
   ],
   "source": [
    "date.min"
   ]
  },
  {
   "cell_type": "code",
   "execution_count": 2,
   "metadata": {},
   "outputs": [
    {
     "output_type": "execute_result",
     "data": {
      "text/plain": [
       "datetime.date(2020, 5, 1)"
      ]
     },
     "metadata": {},
     "execution_count": 2
    }
   ],
   "source": [
    "today = date.today()#.replace(day=1)\n",
    "today.replace(2020)"
   ]
  },
  {
   "cell_type": "code",
   "execution_count": 2,
   "metadata": {},
   "outputs": [
    {
     "output_type": "execute_result",
     "data": {
      "text/plain": [
       "{'date': datetime.date(2020, 2, 25),\n",
       " 'title': \"The Ryuo's Work is Never Done!\",\n",
       " 'volume': '11',\n",
       " 'publisher': 'SB Creative',\n",
       " 'store_link': 'https://global.bookwalker.jp/de33fea597-f52a-4db8-8bee-d0c2339e6557/the-ryuos-work-is-never-done-vol-11/',\n",
       " 'format': 'Digital'}"
      ]
     },
     "metadata": {},
     "execution_count": 2
    }
   ],
   "source": [
    "result = book_walker.volume_scrape('https://global.bookwalker.jp/de33fea597-f52a-4db8-8bee-d0c2339e6557/the-ryuos-work-is-never-done-vol-11/')\n",
    "result"
   ]
  },
  {
   "cell_type": "code",
   "execution_count": 3,
   "metadata": {},
   "outputs": [],
   "source": [
    "from bs4 import BeautifulSoup\n",
    "import requests"
   ]
  },
  {
   "cell_type": "code",
   "execution_count": 4,
   "metadata": {},
   "outputs": [],
   "source": [
    "url = 'https://global.bookwalker.jp/de33fea597-f52a-4db8-8bee-d0c2339e6557/the-ryuos-work-is-never-done-vol-11/'\n",
    "soup = BeautifulSoup(requests.get(url).text, 'html.parser')\n",
    "title_text = soup.find('h1', {'itemprop':'name'}).get_text(strip=True).split(', Vol. ')\n",
    "\n",
    "soup = BeautifulSoup(requests.get(url).text, 'html.parser')\n",
    "\n",
    "    title_text = soup.find('h1', {'itemprop':'name'}).split(', Vol. ')\n",
    "    title = title_text[0]\n",
    "    volume = title_text[1].split('-')[0]"
   ]
  },
  {
   "cell_type": "code",
   "execution_count": null,
   "metadata": {},
   "outputs": [],
   "source": [
    "title_text"
   ]
  }
 ],
 "metadata": {
  "kernelspec": {
   "display_name": "projects",
   "language": "python",
   "name": "projects"
  },
  "language_info": {
   "codemirror_mode": {
    "name": "ipython",
    "version": 3
   },
   "file_extension": ".py",
   "mimetype": "text/x-python",
   "name": "python",
   "nbconvert_exporter": "python",
   "pygments_lexer": "ipython3",
   "version": "3.8.8"
  }
 },
 "nbformat": 4,
 "nbformat_minor": 4
}