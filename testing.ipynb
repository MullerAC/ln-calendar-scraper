{
 "cells": [
  {
   "cell_type": "code",
   "execution_count": 1,
   "metadata": {},
   "outputs": [],
   "source": [
    "from datetime import date\n",
    "import scrape"
   ]
  },
  {
   "cell_type": "code",
   "execution_count": 2,
   "metadata": {},
   "outputs": [
    {
     "output_type": "execute_result",
     "data": {
      "text/plain": [
       "datetime.date(2020, 4, 29)"
      ]
     },
     "metadata": {},
     "execution_count": 2
    }
   ],
   "source": [
    "today = date.today()#.replace(day=1)\n",
    "today.replace(2020)"
   ]
  },
  {
   "cell_type": "code",
   "execution_count": 3,
   "metadata": {},
   "outputs": [
    {
     "output_type": "stream",
     "name": "stdout",
     "text": [
      "53\n"
     ]
    }
   ],
   "source": [
    "result = scrape.j_novel_club(today)\n",
    "print(len(result))"
   ]
  },
  {
   "cell_type": "code",
   "execution_count": 4,
   "metadata": {},
   "outputs": [
    {
     "output_type": "stream",
     "name": "stdout",
     "text": [
      "{'date': datetime.date(2021, 5, 3), 'title': 'Cooking with Wild Game', 'lndb_link': 'N/A', 'volume': '12', 'publisher': 'J-Novel Club', 'store_link': 'https://j-novel.club/series/cooking-with-wild-game#volume-12', 'format': 'Digital'}\n{'date': datetime.date(2021, 5, 4), 'title': 'Altina the Sword Princess', 'lndb_link': 'N/A', 'volume': '8', 'publisher': 'J-Novel Club', 'store_link': 'https://j-novel.club/series/altina-the-sword-princess#volume-8', 'format': 'Digital'}\n{'date': datetime.date(2021, 5, 4), 'title': 'Altina the Sword Princess', 'lndb_link': 'N/A', 'volume': 'tbd', 'publisher': 'J-Novel Club', 'store_link': 'https://j-novel.club/series/altina-the-sword-princessc', 'format': 'Digital'}\n{'date': datetime.date(2021, 5, 5), 'title': 'Culinary Chronicles of the Court Flower', 'lndb_link': 'N/A', 'volume': '1', 'publisher': 'J-Novel Club', 'store_link': 'https://j-novel.club/series/culinary-chronicles-of-the-court-flower#volume-1', 'format': 'Digital'}\n{'date': datetime.date(2021, 5, 6), 'title': 'Ascendance of a Bookworm', 'lndb_link': 'N/A', 'volume': '5', 'publisher': 'J-Novel Club', 'store_link': 'https://j-novel.club/series/ascendance-of-a-bookworm#volume-5', 'format': 'Digital'}\n{'date': datetime.date(2021, 5, 12), 'title': \"The Greatest Magicmaster's Retirement Plan\", 'lndb_link': 'N/A', 'volume': '9', 'publisher': 'J-Novel Club', 'store_link': 'https://j-novel.club/series/the-greatest-magicmaster-s-retirement-plan#volume-9', 'format': 'Digital'}\n{'date': datetime.date(2021, 5, 14), 'title': 'In Another World With My Smartphone', 'lndb_link': 'N/A', 'volume': '22', 'publisher': 'J-Novel Club', 'store_link': 'https://j-novel.club/series/in-another-world-with-my-smartphone#volume-22', 'format': 'Digital'}\n{'date': datetime.date(2021, 5, 17), 'title': 'Welcome to Japan, Ms. Elf!', 'lndb_link': 'N/A', 'volume': '6', 'publisher': 'J-Novel Club', 'store_link': 'https://j-novel.club/series/welcome-to-japan-ms-elf-#volume-6', 'format': 'Digital'}\n{'date': datetime.date(2021, 5, 20), 'title': 'The Magician Who Rose From Failure', 'lndb_link': 'N/A', 'volume': '2', 'publisher': 'J-Novel Club', 'store_link': 'https://j-novel.club/series/the-magician-who-rose-from-failure#volume-2', 'format': 'Digital'}\n{'date': datetime.date(2021, 5, 21), 'title': 'John Sinclair: Demon Hunter', 'lndb_link': 'N/A', 'volume': '1', 'publisher': 'J-Novel Club', 'store_link': 'https://j-novel.club/series/john-sinclair-demon-hunter#volume-1', 'format': 'Digital'}\n{'date': datetime.date(2021, 5, 25), 'title': 'By the Grace of the Gods', 'lndb_link': 'N/A', 'volume': '7', 'publisher': 'J-Novel Club', 'store_link': 'https://j-novel.club/series/by-the-grace-of-the-gods#volume-7', 'format': 'Digital'}\n{'date': datetime.date(2021, 5, 26), 'title': 'Dungeon Busters', 'lndb_link': 'N/A', 'volume': '2', 'publisher': 'J-Novel Club', 'store_link': 'https://j-novel.club/series/dungeon-busters#volume-2', 'format': 'Digital'}\n{'date': datetime.date(2021, 5, 26), 'title': 'Lazy Dungeon Master', 'lndb_link': 'N/A', 'volume': '14', 'publisher': 'J-Novel Club', 'store_link': 'https://j-novel.club/series/lazy-dungeon-master#volume-14', 'format': 'Digital'}\n{'date': datetime.date(2021, 5, 27), 'title': 'Holmes of Kyoto', 'lndb_link': 'N/A', 'volume': '5', 'publisher': 'J-Novel Club', 'store_link': 'https://j-novel.club/series/holmes-of-kyoto#volume-5', 'format': 'Digital'}\n{'date': datetime.date(2021, 5, 27), 'title': 'The Epic Tale of the Reincarnated Prince Herscherik', 'lndb_link': 'N/A', 'volume': '5', 'publisher': 'J-Novel Club', 'store_link': 'https://j-novel.club/series/the-epic-tale-of-the-reincarnated-prince-herscherik#volume-5', 'format': 'Digital'}\n{'date': datetime.date(2021, 5, 28), 'title': 'Monster Tamer', 'lndb_link': 'N/A', 'volume': '4', 'publisher': 'J-Novel Club', 'store_link': 'https://j-novel.club/series/monster-tamer#volume-4', 'format': 'Digital'}\n{'date': datetime.date(2021, 5, 28), 'title': 'Slayers', 'lndb_link': 'N/A', 'volume': '8', 'publisher': 'J-Novel Club', 'store_link': 'https://j-novel.club/series/slayers#volume-8', 'format': 'Digital'}\n{'date': datetime.date(2021, 6, 1), 'title': 'Girls Kingdom', 'lndb_link': 'N/A', 'volume': '3', 'publisher': 'J-Novel Club', 'store_link': 'https://j-novel.club/series/girls-kingdom#volume-3', 'format': 'Digital'}\n{'date': datetime.date(2021, 6, 2), 'title': 'My Instant Death Ability is So Overpowered, No One in This Other World Stands a Chance Against Me!', 'lndb_link': 'N/A', 'volume': '5', 'publisher': 'J-Novel Club', 'store_link': 'https://j-novel.club/series/my-instant-death-ability-is-so-overpowered-no-one-in-this-other-world-stands-a-chance-against-me-#volume-5', 'format': 'Digital'}\n{'date': datetime.date(2021, 6, 3), 'title': 'The Apothecary Diaries', 'lndb_link': 'N/A', 'volume': '2', 'publisher': 'J-Novel Club', 'store_link': 'https://j-novel.club/series/the-apothecary-diaries#volume-2', 'format': 'Digital'}\n{'date': datetime.date(2021, 6, 4), 'title': \"The World's Least Interesting Master Swordsman\", 'lndb_link': 'N/A', 'volume': '6', 'publisher': 'J-Novel Club', 'store_link': 'https://j-novel.club/series/the-world-s-least-interesting-master-swordsman#volume-6', 'format': 'Digital'}\n{'date': datetime.date(2021, 6, 8), 'title': 'Perry Rhodan NEO', 'lndb_link': 'N/A', 'volume': '1', 'publisher': 'J-Novel Club', 'store_link': 'https://j-novel.club/series/perry-rhodan-neo#volume-1', 'format': 'Digital'}\n{'date': datetime.date(2021, 6, 10), 'title': \"The Emperor's Lady-in-Waiting Is Wanted as a Bride\", 'lndb_link': 'N/A', 'volume': '1', 'publisher': 'J-Novel Club', 'store_link': 'https://j-novel.club/series/the-emperor-s-lady-in-waiting-is-wanted-as-a-bride#volume-1', 'format': 'Digital'}\n{'date': datetime.date(2021, 6, 11), 'title': 'I Refuse to Be Your Enemy!', 'lndb_link': 'N/A', 'volume': '6', 'publisher': 'J-Novel Club', 'store_link': 'https://j-novel.club/series/i-refuse-to-be-your-enemy-#volume-6', 'format': 'Digital'}\n{'date': datetime.date(2021, 6, 11), 'title': 'Sorcerous Stabber Orphen: The Wayward Journey', 'lndb_link': 'N/A', 'volume': '12', 'publisher': 'J-Novel Club', 'store_link': 'https://j-novel.club/series/sorcerous-stabber-orphen-the-wayward-journey#volume-12', 'format': 'Digital'}\n{'date': datetime.date(2021, 6, 14), 'title': \"Reincarnated as the Piggy Duke: This Time I'm Gonna Tell Her How I Feel!\", 'lndb_link': 'N/A', 'volume': '1', 'publisher': 'J-Novel Club', 'store_link': 'https://j-novel.club/series/reincarnated-as-the-piggy-duke-this-time-i-m-gonna-tell-her-how-i-feel-#volume-1', 'format': 'Digital'}\n{'date': datetime.date(2021, 6, 14), 'title': 'Outbreak Company', 'lndb_link': 'N/A', 'volume': '18', 'publisher': 'J-Novel Club', 'store_link': 'https://j-novel.club/series/outbreak-company#volume-18', 'format': 'Digital'}\n{'date': datetime.date(2021, 6, 15), 'title': 'Mapping: The Trash-Tier Skill That Got Me Into a Top-Tier Party', 'lndb_link': 'N/A', 'volume': '5', 'publisher': 'J-Novel Club', 'store_link': 'https://j-novel.club/series/mapping-the-trash-tier-skill-that-got-me-into-a-top-tier-party#volume-5', 'format': 'Digital'}\n{'date': datetime.date(2021, 6, 15), 'title': 'Are You Okay With a Slightly Older Girlfriend?', 'lndb_link': 'N/A', 'volume': '3', 'publisher': 'J-Novel Club', 'store_link': 'https://j-novel.club/series/are-you-okay-with-a-slightly-older-girlfriend-#volume-3', 'format': 'Digital'}\n{'date': datetime.date(2021, 6, 16), 'title': 'Fushi no Kami: Rebuilding Civilization Starts With a Village', 'lndb_link': 'N/A', 'volume': '4', 'publisher': 'J-Novel Club', 'store_link': 'https://j-novel.club/series/fushi-no-kami-rebuilding-civilization-starts-with-a-village#volume-4', 'format': 'Digital'}\n{'date': datetime.date(2021, 6, 17), 'title': 'Guide to the Perfect Otaku Girlfriend: Roomies and Romance', 'lndb_link': 'N/A', 'volume': '1', 'publisher': 'J-Novel Club', 'store_link': 'https://j-novel.club/series/guide-to-the-perfect-otaku-girlfriend-roomies-and-romance#volume-1', 'format': 'Digital'}\n{'date': datetime.date(2021, 6, 18), 'title': 'The Ideal Sponger Life', 'lndb_link': 'N/A', 'volume': '3', 'publisher': 'J-Novel Club', 'store_link': 'https://j-novel.club/series/the-ideal-sponger-life#volume-3', 'format': 'Digital'}\n{'date': datetime.date(2021, 6, 22), 'title': 'The Unwanted Undead Adventurer', 'lndb_link': 'N/A', 'volume': '8', 'publisher': 'J-Novel Club', 'store_link': 'https://j-novel.club/series/the-unwanted-undead-adventurer#volume-8', 'format': 'Digital'}\n{'date': datetime.date(2021, 6, 23), 'title': 'Jessica Bannister', 'lndb_link': 'N/A', 'volume': '1', 'publisher': 'J-Novel Club', 'store_link': 'https://j-novel.club/series/jessica-bannister#volume-1', 'format': 'Digital'}\n{'date': datetime.date(2021, 6, 24), 'title': 'Villainess: Reloaded! Blowing Away Bad Ends with Modern Weapons', 'lndb_link': 'N/A', 'volume': '1', 'publisher': 'J-Novel Club', 'store_link': 'https://j-novel.club/series/villainess-reloaded-blowing-away-bad-ends-with-modern-weapons#volume-1', 'format': 'Digital'}\n{'date': datetime.date(2021, 6, 25), 'title': 'Full Metal Panic!', 'lndb_link': 'N/A', 'volume': '12', 'publisher': 'J-Novel Club', 'store_link': 'https://j-novel.club/series/full-metal-panic-#volume-12', 'format': 'Digital'}\n{'date': datetime.date(2021, 6, 28), 'title': 'The Great Cleric', 'lndb_link': 'N/A', 'volume': '3', 'publisher': 'J-Novel Club', 'store_link': 'https://j-novel.club/series/the-great-cleric#volume-3', 'format': 'Digital'}\n{'date': datetime.date(2021, 6, 28), 'title': 'Reborn to Master the Blade: From Hero-King to Extraordinary Squire ♀', 'lndb_link': 'N/A', 'volume': '1', 'publisher': 'J-Novel Club', 'store_link': 'https://j-novel.club/series/reborn-to-master-the-blade-from-hero-king-to-extraordinary-squire-#volume-1', 'format': 'Digital'}\n{'date': datetime.date(2021, 6, 30), 'title': 'Ascendance of a Bookworm', 'lndb_link': 'N/A', 'volume': '1', 'publisher': 'J-Novel Club', 'store_link': 'https://j-novel.club/series/ascendance-of-a-bookworm#volume-1', 'format': 'Digital'}\n{'date': datetime.date(2021, 7, 1), 'title': 'My Next Life as a Villainess: All Routes Lead to Doom!', 'lndb_link': 'N/A', 'volume': '9', 'publisher': 'J-Novel Club', 'store_link': 'https://j-novel.club/series/my-next-life-as-a-villainess-all-routes-lead-to-doom-#volume-9', 'format': 'Digital'}\n{'date': datetime.date(2021, 7, 2), 'title': 'A Wild Last Boss Appeared!', 'lndb_link': 'N/A', 'volume': '5', 'publisher': 'J-Novel Club', 'store_link': 'https://j-novel.club/series/a-wild-last-boss-appeared-#volume-5', 'format': 'Digital'}\n{'date': datetime.date(2021, 7, 2), 'title': 'The Sidekick Never Gets the Girl, Let Alone the Protag’s Sister!', 'lndb_link': 'N/A', 'volume': '1', 'publisher': 'J-Novel Club', 'store_link': 'https://j-novel.club/series/the-sidekick-never-gets-the-girl-let-alone-the-protag-s-sister-#volume-1', 'format': 'Digital'}\n{'date': datetime.date(2021, 7, 5), 'title': 'Altina the Sword Princess', 'lndb_link': 'N/A', 'volume': '9', 'publisher': 'J-Novel Club', 'store_link': 'https://j-novel.club/series/altina-the-sword-princess#volume-9', 'format': 'Digital'}\n{'date': datetime.date(2021, 7, 6), 'title': 'Ascendance of a Bookworm: Fanbook', 'lndb_link': 'N/A', 'volume': 'tbd', 'publisher': 'J-Novel Club', 'store_link': 'https://j-novel.club/series/ascendance-of-a-bookworm-fanbook9', 'format': 'Digital'}\n{'date': datetime.date(2021, 7, 7), 'title': 'Grimgar of Fantasy and Ash', 'lndb_link': 'N/A', 'volume': '17', 'publisher': 'J-Novel Club', 'store_link': 'https://j-novel.club/series/grimgar-of-fantasy-and-ash#volume-17', 'format': 'Digital'}\n{'date': datetime.date(2021, 7, 9), 'title': 'Culinary Chronicles of the Court Flower', 'lndb_link': 'N/A', 'volume': '2', 'publisher': 'J-Novel Club', 'store_link': 'https://j-novel.club/series/culinary-chronicles-of-the-court-flower#volume-2', 'format': 'Digital'}\n{'date': datetime.date(2021, 7, 9), 'title': \"My Friend's Little Sister Has It In for Me!\", 'lndb_link': 'N/A', 'volume': '3', 'publisher': 'J-Novel Club', 'store_link': 'https://j-novel.club/series/my-friend-s-little-sister-has-it-in-for-me-#volume-3', 'format': 'Digital'}\n{'date': datetime.date(2021, 7, 12), 'title': 'Seirei Gensouki: Spirit Chronicles', 'lndb_link': 'N/A', 'volume': '15', 'publisher': 'J-Novel Club', 'store_link': 'https://j-novel.club/series/seirei-gensouki-spirit-chronicles#volume-15', 'format': 'Digital'}\n{'date': datetime.date(2021, 7, 16), 'title': 'Black Summoner', 'lndb_link': 'N/A', 'volume': '5', 'publisher': 'J-Novel Club', 'store_link': 'https://j-novel.club/series/black-summoner#volume-5', 'format': 'Digital'}\n{'date': datetime.date(2021, 7, 19), 'title': 'Tearmoon Empire', 'lndb_link': 'N/A', 'volume': '5', 'publisher': 'J-Novel Club', 'store_link': 'https://j-novel.club/series/tearmoon-empire#volume-5', 'format': 'Digital'}\n{'date': datetime.date(2021, 7, 20), 'title': 'Cooking with Wild Game', 'lndb_link': 'N/A', 'volume': '13', 'publisher': 'J-Novel Club', 'store_link': 'https://j-novel.club/series/cooking-with-wild-game#volume-13', 'format': 'Digital'}\n{'date': datetime.date(2021, 7, 20), 'title': \"The White Cat's Revenge as Plotted from the Dragon King's Lap\", 'lndb_link': 'N/A', 'volume': '5', 'publisher': 'J-Novel Club', 'store_link': 'https://j-novel.club/series/the-white-cat-s-revenge-as-plotted-from-the-dragon-king-s-lap#volume-5', 'format': 'Digital'}\n{'date': datetime.date(2021, 7, 22), 'title': 'The Master of Ragnarok & Blesser of Einherjar', 'lndb_link': 'N/A', 'volume': '16', 'publisher': 'J-Novel Club', 'store_link': 'https://j-novel.club/series/the-master-of-ragnarok-blesser-of-einherjar#volume-16', 'format': 'Digital'}\n"
     ]
    }
   ],
   "source": [
    "for r in result:\n",
    "    print(r)"
   ]
  },
  {
   "cell_type": "code",
   "execution_count": 4,
   "metadata": {},
   "outputs": [],
   "source": [
    "from bs4 import BeautifulSoup\n",
    "import requests"
   ]
  },
  {
   "cell_type": "code",
   "execution_count": 5,
   "metadata": {},
   "outputs": [],
   "source": [
    "url = 'https://j-novel.club/series/5c8b54469e490d263bf5129b#volume-9'\n",
    "soup = BeautifulSoup(requests.get(url).text, 'html.parser')"
   ]
  },
  {
   "cell_type": "code",
   "execution_count": 29,
   "metadata": {},
   "outputs": [],
   "source": [
    "a = soup.find('div', class_='fl45o3o')"
   ]
  },
  {
   "cell_type": "code",
   "execution_count": 32,
   "metadata": {},
   "outputs": [
    {
     "output_type": "execute_result",
     "data": {
      "text/plain": [
       "'the-greatest-magicmaster-s-retirement-plan'"
      ]
     },
     "metadata": {},
     "execution_count": 32
    }
   ],
   "source": [
    "a['id']"
   ]
  },
  {
   "cell_type": "code",
   "execution_count": null,
   "metadata": {},
   "outputs": [],
   "source": []
  }
 ],
 "metadata": {
  "kernelspec": {
   "display_name": "projects",
   "language": "python",
   "name": "projects"
  },
  "language_info": {
   "codemirror_mode": {
    "name": "ipython",
    "version": 3
   },
   "file_extension": ".py",
   "mimetype": "text/x-python",
   "name": "python",
   "nbconvert_exporter": "python",
   "pygments_lexer": "ipython3",
   "version": "3.8.8"
  }
 },
 "nbformat": 4,
 "nbformat_minor": 4
}